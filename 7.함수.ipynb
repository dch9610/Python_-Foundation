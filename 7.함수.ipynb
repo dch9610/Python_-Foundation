{
 "cells": [
  {
   "cell_type": "markdown",
   "metadata": {},
   "source": [
    "# 람다함수"
   ]
  },
  {
   "cell_type": "markdown",
   "metadata": {},
   "source": [
    "# 함수"
   ]
  },
  {
   "cell_type": "markdown",
   "metadata": {},
   "source": [
    "## 개요/정의"
   ]
  },
  {
   "cell_type": "markdown",
   "metadata": {},
   "source": [
    "- 특정한 기능을 수행하는 수행문의 덩어리를 하나로 뭉쳐서 \n",
    "    단일의 목적을 수행하는 단위\n",
    "- 입력(소스, 데이터)대비, 출력(산출물)이라는 형태가 존재한다.\n",
    "- 입력 => 파라미터, 출력 => 리턴값"
   ]
  },
  {
   "cell_type": "markdown",
   "metadata": {},
   "source": [
    "## 특징"
   ]
  },
  {
   "cell_type": "markdown",
   "metadata": {},
   "source": [
    "- 재활용성을 높이는 코드를 하나로 묶어서 함수로 표현 (1번이상 사용된다면)\n",
    "- 단지, 코드가 복잡해서 하나로 묶어서 처리\n",
    "- 코드를 기능별로 나눠서 효율적으로 유지보수 관리하기 위해 (재활용성 및 다른 프로젝트에서도 활용)\n",
    "- 생산성 향상 -> 수익증대\n",
    "- 함수, 메소드 다 같은 의미"
   ]
  },
  {
   "cell_type": "markdown",
   "metadata": {},
   "source": [
    "## 종류"
   ]
  },
  {
   "cell_type": "markdown",
   "metadata": {},
   "source": [
    "- 커스텀 함수\n",
    "    - 개발자가 필요에 의해서 만든 함수\n",
    "    - 문법\n",
    "- 내장함수\n",
    "    - 별도의 액션없이 바로 사용가능한 함수\n",
    "    - int(), str(), print(), type(), ...\n",
    "    - 주로 사용하는 것은 기억, 나머지는 필요시 찾아서 사용\n",
    "- 외장함수\n",
    "    - 서드파트 모듈을 가져와서, 그 안에 있는 함수를 사용한다면 이는 외장함수\n",
    "    - 패키지(모듈)명.함수()\n",
    "    - 내가 만든 함수를 다른 사람이 사용한다면 그것이 외장함수\n",
    "- 람다함수\n",
    "    - 휘발성 함수\n",
    "    - 가장 빠른 처리속도\n",
    "    - 수행문이 1개여야 한다는 제한\n",
    "    - 함수 인자에 함수가 연결(콜백처리)되는 스타일에서 주로 사용\n",
    "    - 파이썬 : filter(), map()\n",
    "    - pandas : apply()\n",
    "    - lambda x : x+1   \n",
    "- 클로저\n",
    "    - 함수 안에 함수가 정의\n",
    "    - 함수 내부에서만 사용하게 제한하거나\n",
    "    - 외부에서 사용시\n",
    "        - XXXX()() => keras에서 주로 보임\n",
    "- 고급표현"
   ]
  },
  {
   "cell_type": "markdown",
   "metadata": {},
   "source": [
    "# 커스텀함수"
   ]
  },
  {
   "cell_type": "code",
   "execution_count": 2,
   "metadata": {},
   "outputs": [
    {
     "output_type": "execute_result",
     "data": {
      "text/plain": [
       "'\\n[@ ~ <- 데코레이터 (다음주)]\\ndef 함수명 ([인자1, 인자2,..]):\\n    # 코드블럭 파트\\n    statements ...\\n    [return [출력값...]]\\n'"
      ]
     },
     "metadata": {},
     "execution_count": 2
    }
   ],
   "source": [
    "# - [...] 생략 가능하다\n",
    "\n",
    "'''\n",
    "[@ ~ <- 데코레이터 (다음주)]\n",
    "def 함수명 ([인자1, 인자2,..]):\n",
    "    # 코드블럭 파트\n",
    "    statements ...\n",
    "    [return [출력값...]]\n",
    "'''"
   ]
  },
  {
   "cell_type": "code",
   "execution_count": 3,
   "metadata": {},
   "outputs": [],
   "source": [
    "# 1. 정수 더하기 함수\n",
    "#  - 함수명 : sum\n",
    "#  - 입력 : x, y\n",
    "#  - 출력 : 입력된 2개의 값을 더한값\n",
    "# 파이썬의 변수는 타입 추론형\n",
    "# => 변수명 앞에 어떤 기호도 없던가, 범용적 기호만 사용(var, let,..)\n",
    "def sum(x,y):\n",
    "    result = x + y\n",
    "    return result"
   ]
  },
  {
   "cell_type": "code",
   "execution_count": 4,
   "metadata": {},
   "outputs": [
    {
     "output_type": "execute_result",
     "data": {
      "text/plain": [
       "9"
      ]
     },
     "metadata": {},
     "execution_count": 4
    }
   ],
   "source": [
    "# 함수는 호출해야 의미를 가진다. => call by value\n",
    "# 호출 : 함수명(파라미터)\n",
    "sum(4,5)"
   ]
  },
  {
   "cell_type": "code",
   "execution_count": 5,
   "metadata": {},
   "outputs": [
    {
     "output_type": "stream",
     "name": "stdout",
     "text": [
      "21\n21\nNone\n"
     ]
    },
    {
     "output_type": "execute_result",
     "data": {
      "text/plain": [
       "(None, None)"
      ]
     },
     "metadata": {},
     "execution_count": 5
    }
   ],
   "source": [
    "# 출력이 없는 함수\n",
    "def sum2(x,y):\n",
    "    print(x+y)\n",
    "    #result = x + y\n",
    "sum2(10,11), print(sum2(10,11))\n",
    "# 함수가 리턴값을 가지지 않으면 함수의 반환값은 None이다."
   ]
  },
  {
   "cell_type": "code",
   "execution_count": 6,
   "metadata": {},
   "outputs": [
    {
     "output_type": "stream",
     "name": "stdout",
     "text": [
      "(1, 2) <class 'tuple'>\n(1, 2, 3) <class 'tuple'>\n(1, 2, 3, 4) <class 'tuple'>\n"
     ]
    }
   ],
   "source": [
    "# 가변인자 (*)\n",
    "# 인자들을 튜플로 묶어서 함수 내부로 가져온다.\n",
    "def sum3(*x):\n",
    "    print(x, type(x))\n",
    "    \n",
    "# 매개변수의 수가 정해져 있지 않다(가변적이다.)\n",
    "sum3(1,2)\n",
    "sum3(1,2,3)\n",
    "sum3(1,2,3,4)\n"
   ]
  },
  {
   "cell_type": "code",
   "execution_count": 7,
   "metadata": {},
   "outputs": [
    {
     "output_type": "stream",
     "name": "stdout",
     "text": [
      "1 <class 'int'> (2,) <class 'tuple'>\n1 <class 'int'> (2, 3) <class 'tuple'>\n1 <class 'int'> (2, 3, 4) <class 'tuple'>\n"
     ]
    }
   ],
   "source": [
    "# 가변인자 (*)\n",
    "# 인자들을 튜플로 묶어서 함수 내부로 가져온다.\n",
    "# a는 int로 받고 나머지는 튜플로\n",
    "def sum4(a, *x):\n",
    "    print(a, type(a), x, type(x))\n",
    "    \n",
    "# 매개변수의 수가 정해져 있지 않다(가변적이다.)\n",
    "sum4(1,2)\n",
    "sum4(1,2,3)\n",
    "sum4(1,2,3,4)\n"
   ]
  },
  {
   "cell_type": "code",
   "execution_count": 8,
   "metadata": {},
   "outputs": [
    {
     "output_type": "error",
     "ename": "TypeError",
     "evalue": "sum5() missing 1 required keyword-only argument: 'a'",
     "traceback": [
      "\u001b[1;31m---------------------------------------------------------------------------\u001b[0m",
      "\u001b[1;31mTypeError\u001b[0m                                 Traceback (most recent call last)",
      "\u001b[1;32m<ipython-input-8-9dbf93d843b8>\u001b[0m in \u001b[0;36m<module>\u001b[1;34m\u001b[0m\n\u001b[0;32m      3\u001b[0m \u001b[1;33m\u001b[0m\u001b[0m\n\u001b[0;32m      4\u001b[0m \u001b[1;31m# 매개변수의 수가 정해져 있지 않다(가변적이다.)\u001b[0m\u001b[1;33m\u001b[0m\u001b[1;33m\u001b[0m\u001b[1;33m\u001b[0m\u001b[0m\n\u001b[1;32m----> 5\u001b[1;33m \u001b[0msum5\u001b[0m\u001b[1;33m(\u001b[0m\u001b[1;36m1\u001b[0m\u001b[1;33m,\u001b[0m\u001b[1;36m2\u001b[0m\u001b[1;33m)\u001b[0m\u001b[1;33m\u001b[0m\u001b[1;33m\u001b[0m\u001b[0m\n\u001b[0m\u001b[0;32m      6\u001b[0m \u001b[0msum5\u001b[0m\u001b[1;33m(\u001b[0m\u001b[1;36m1\u001b[0m\u001b[1;33m,\u001b[0m\u001b[1;36m2\u001b[0m\u001b[1;33m,\u001b[0m\u001b[1;36m3\u001b[0m\u001b[1;33m)\u001b[0m\u001b[1;33m\u001b[0m\u001b[1;33m\u001b[0m\u001b[0m\n\u001b[0;32m      7\u001b[0m \u001b[0msum5\u001b[0m\u001b[1;33m(\u001b[0m\u001b[1;36m1\u001b[0m\u001b[1;33m,\u001b[0m\u001b[1;36m2\u001b[0m\u001b[1;33m,\u001b[0m\u001b[1;36m3\u001b[0m\u001b[1;33m,\u001b[0m\u001b[1;36m4\u001b[0m\u001b[1;33m)\u001b[0m\u001b[1;33m\u001b[0m\u001b[1;33m\u001b[0m\u001b[0m\n",
      "\u001b[1;31mTypeError\u001b[0m: sum5() missing 1 required keyword-only argument: 'a'"
     ]
    }
   ],
   "source": [
    "\n",
    "def sum5(*x,a):\n",
    "    print(a, type(a), x, type(x))\n",
    "    \n",
    "# 매개변수의 수가 정해져 있지 않다(가변적이다.)\n",
    "sum5(1,2)\n",
    "sum5(1,2,3)\n",
    "sum5(1,2,3,4)\n"
   ]
  },
  {
   "cell_type": "code",
   "execution_count": 1,
   "metadata": {},
   "outputs": [
    {
     "name": "stdout",
     "output_type": "stream",
     "text": [
      "2 <class 'int'> (1,) <class 'tuple'>\n",
      "3 <class 'int'> (1, 2) <class 'tuple'>\n",
      "4 <class 'int'> (1, 2, 3) <class 'tuple'>\n"
     ]
    }
   ],
   "source": [
    "def sum6(*x,a):\n",
    "    print(a, type(a), x, type(x))\n",
    "    \n",
    "# 매개변수의 수가 정해져 있지 않다(가변적이다.)\n",
    "# 매개변수에 기본값 부여\n",
    "# a=3 => a라는 파라미터에 값을 직접 지정한것\n",
    "sum6(1,a=2)\n",
    "sum6(1,2,a=3)\n",
    "sum6(1,2,3,a=4)"
   ]
  },
  {
   "cell_type": "code",
   "execution_count": 9,
   "metadata": {},
   "outputs": [
    {
     "name": "stdout",
     "output_type": "stream",
     "text": [
      "(2, 4, 6, 8) <class 'tuple'>\n",
      "(2, 4, 6, 8, 10, 12) <class 'tuple'>\n"
     ]
    },
    {
     "data": {
      "text/plain": [
       "(20, 42)"
      ]
     },
     "execution_count": 9,
     "metadata": {},
     "output_type": "execute_result"
    }
   ],
   "source": [
    "def sum7(*x):\n",
    "    all_sum = 0\n",
    "    for item in x:\n",
    "        all_sum += item\n",
    "    print(x, type(x))\n",
    "    return all_sum\n",
    "    pass\n",
    "    \n",
    "    \n",
    "# 누적합을 출력하는 함수\n",
    "# 20, 42 이렇게 결과가 나올것이다\n",
    "sum7(2,4,6,8), sum7(2,4,6,8,10,12)"
   ]
  },
  {
   "cell_type": "code",
   "execution_count": 14,
   "metadata": {},
   "outputs": [
    {
     "name": "stdout",
     "output_type": "stream",
     "text": [
      "(2, 4, 6, 8) <class 'tuple'>\n",
      "(2, 4, 6, 8, 10, 12) <class 'tuple'>\n"
     ]
    },
    {
     "data": {
      "text/plain": [
       "(384, 46080)"
      ]
     },
     "execution_count": 14,
     "metadata": {},
     "output_type": "execute_result"
    }
   ],
   "source": [
    "def sum8(*x):\n",
    "    all_mul = 1\n",
    "    for item in x:\n",
    "        all_mul *= item\n",
    "    print(x, type(x))\n",
    "    return all_mul\n",
    "    pass\n",
    "    \n",
    "    \n",
    "# 누적합을 출력하는 함수\n",
    "# 20, 42 이렇게 결과가 나올것이다\n",
    "sum8(2,4,6,8), sum8(2,4,6,8,10,12)"
   ]
  },
  {
   "cell_type": "code",
   "execution_count": null,
   "metadata": {},
   "outputs": [],
   "source": [
    "# for key, value in kargs.items() # 키와 값을 동시에\n",
    "# for key in kargs.keys() # 키만\n",
    "# for value in kargs.values() # 값만"
   ]
  },
  {
   "cell_type": "code",
   "execution_count": 21,
   "metadata": {},
   "outputs": [
    {
     "name": "stdout",
     "output_type": "stream",
     "text": [
      "food 정식\n",
      "drink 물\n"
     ]
    },
    {
     "data": {
      "text/plain": [
       "'정식'"
      ]
     },
     "execution_count": 21,
     "metadata": {},
     "output_type": "execute_result"
    }
   ],
   "source": [
    "# **kargs : keyword argements\n",
    "\n",
    "# 머신러닝/딥러닝시 사용하는 많은 함수의 마지막 인자로 많이 사용된다.\n",
    "# 함수 내부에서 정식이라는 값을 출력하시오\n",
    "# 장점 : 함수 외적으로 어떤 인자를 받을 것인지 은닉할수 있다.\n",
    "# 인자를 명확하게 지정하여(키), 여러개를 자유롭게 확장할수 있다.\n",
    "def test1( **kargs ):\n",
    "    for key, value in kargs.items():\n",
    "        print(key,value)\n",
    "        \n",
    "    # print(kargs, type(kargs), kargs['food'], kargs['drink'])\n",
    "    return kargs['food']\n",
    "    pass\n",
    "\n",
    "# 파라미터의 키값을 지정해서 데이터를 넘길때 사용\n",
    "test1( food = '정식', drink = '물')\n",
    "    "
   ]
  },
  {
   "cell_type": "code",
   "execution_count": 22,
   "metadata": {},
   "outputs": [
    {
     "data": {
      "text/plain": [
       "(3, -1, 2, 0.5)"
      ]
     },
     "execution_count": 22,
     "metadata": {},
     "output_type": "execute_result"
    }
   ],
   "source": [
    "# 리턴값이 여러개 -> 리턴된 값의 타입은 무조건 tuple\n",
    "def cal(x, y):\n",
    "    # 리턴값을 여러개로 나열하면 -> tuple로 리턴된다\n",
    "    return x+y, x-y, x*y, x/y\n",
    "\n",
    "cal(1,2)"
   ]
  },
  {
   "cell_type": "code",
   "execution_count": 24,
   "metadata": {},
   "outputs": [
    {
     "data": {
      "text/plain": [
       "3"
      ]
     },
     "execution_count": 24,
     "metadata": {},
     "output_type": "execute_result"
    }
   ],
   "source": [
    "# 멤버수대로 직접 변수에 바로 대입하여 결과를 받는다.\n",
    "# 장점 : 각 변수의 의미를 명확하게 부여할수 있다.\n",
    "add, sub, mul, div = cal(1,2)\n",
    "add"
   ]
  },
  {
   "cell_type": "code",
   "execution_count": 28,
   "metadata": {},
   "outputs": [
    {
     "name": "stdout",
     "output_type": "stream",
     "text": [
      "당신의 나이는 1, 키는 180 입니다.\n",
      "당신의 나이는 15, 키는 180 입니다.\n",
      "당신의 나이는 1, 키는 178 입니다.\n",
      "당신의 나이는 12, 키는 178 입니다.\n"
     ]
    }
   ],
   "source": [
    "# 함수의 파라미터 초기값 부여\n",
    "def cal( age=1, height=180):\n",
    "    print(\"당신의 나이는 %s, 키는 %s 입니다.\" % (age, height))\n",
    "    \n",
    "cal()\n",
    "cal(15)\n",
    "cal(height=178)\n",
    "cal(height=178, age =12)\n"
   ]
  },
  {
   "cell_type": "code",
   "execution_count": 31,
   "metadata": {},
   "outputs": [
    {
     "name": "stdout",
     "output_type": "stream",
     "text": [
      "jo의 나이는 1, 키는 180 입니다.\n",
      "15의 나이는 1, 키는 180 입니다.\n",
      "hi의 나이는 1, 키는 178 입니다.\n",
      "hello의 나이는 12, 키는 178 입니다.\n"
     ]
    }
   ],
   "source": [
    "# 함수의 파라미터 초기값 부여\n",
    "def cal2(name, age=1, height=180):\n",
    "    print(\"%s의 나이는 %s, 키는 %s 입니다.\" % (name, age, height))\n",
    "    \n",
    "cal2('jo')\n",
    "# 순서대로 인자로 배치된다.\n",
    "cal2(15)\n",
    "# 기본값이 없는 파라미터부터 채우고, 나머지 기본값 있는 파라미터 채운다.\n",
    "cal2('hi',height=178)\n",
    "# 기본값이 없어도 파라미터 명을 지정하면 순서를 없앨수 있다.\n",
    "cal2(height=178, age =12, name='hello')\n"
   ]
  },
  {
   "cell_type": "code",
   "execution_count": 32,
   "metadata": {},
   "outputs": [
    {
     "ename": "SyntaxError",
     "evalue": "non-default argument follows default argument (<ipython-input-32-90c7a2e95a7d>, line 4)",
     "output_type": "error",
     "traceback": [
      "\u001b[1;36m  File \u001b[1;32m\"<ipython-input-32-90c7a2e95a7d>\"\u001b[1;36m, line \u001b[1;32m4\u001b[0m\n\u001b[1;33m    def cal3(age=1, height=180, name):\u001b[0m\n\u001b[1;37m             ^\u001b[0m\n\u001b[1;31mSyntaxError\u001b[0m\u001b[1;31m:\u001b[0m non-default argument follows default argument\n"
     ]
    }
   ],
   "source": [
    "def fit(X_train, y_train): pass\n",
    "\n",
    "# 기본값 없는 파라미터는 기본값 있는 파라미터보다 무조건 앞에 있어야함\n",
    "# name이 기본값이 없기 떄문에 앞에 있어야함\n",
    "def cal3(age=1, height=180, name):\n",
    "    print(\"%s의 나이는 %s, 키는 %s 입니다.\" % (name, age, height))\n"
   ]
  },
  {
   "cell_type": "markdown",
   "metadata": {},
   "source": [
    "# 내장함수"
   ]
  },
  {
   "cell_type": "markdown",
   "metadata": {},
   "source": [
    "- 특정기능을 가진 함수를 별도의 액션 없이 바로 사용이 가능한 함수들\n",
    "- 사용빈도가 높은 함수, 낮은 함수도 존재한다 (시간이 충분하면 한번 정도 사용해 봐도 ok)\n",
    "- int(), str(), type(), list(), "
   ]
  },
  {
   "cell_type": "code",
   "execution_count": 12,
   "metadata": {},
   "outputs": [
    {
     "output_type": "stream",
     "name": "stdout",
     "text": [
      "\nThe Xbox One is a home video game console developed by Microsoft.\nAnnounced in May 2013, it is the successor to Xbox 360 and the third base console in the Xbox series of video game consoles. It was first released in North America, parts of Europe, Australia, and South America in November 2013, and in Japan, China, and other European countries in September 2014.\nIt is the first Xbox game console to be released in China, specifically in the Shanghai Free-Trade Zone.\nMicrosoft marketed the device as an \"all-in-one entertainment system\", hence the name 'Xbox One'.[15][16] A console of the eighth generation, it mainly competes against Sony's PlayStation 4 and Nintendo's Wii U and Switch.\n\n"
     ]
    }
   ],
   "source": [
    "en_txt = '''\n",
    "The Xbox One is a home video game console developed by Microsoft.\n",
    "Announced in May 2013, it is the successor to Xbox 360 and the third base console in the Xbox series of video game consoles. It was first released in North America, parts of Europe, Australia, and South America in November 2013, and in Japan, China, and other European countries in September 2014.\n",
    "It is the first Xbox game console to be released in China, specifically in the Shanghai Free-Trade Zone.\n",
    "Microsoft marketed the device as an \"all-in-one entertainment system\", hence the name 'Xbox One'.[15][16] A console of the eighth generation, it mainly competes against Sony's PlayStation 4 and Nintendo's Wii U and Switch.\n",
    "'''\n",
    "\n",
    "print(en_txt)"
   ]
  },
  {
   "cell_type": "code",
   "execution_count": 13,
   "metadata": {},
   "outputs": [
    {
     "output_type": "execute_result",
     "data": {
      "text/plain": [
       "6"
      ]
     },
     "metadata": {},
     "execution_count": 13
    }
   ],
   "source": [
    "# 주어진 원문의 알파벳별 빈도를 계산하시오\n",
    "# 결과물 \n",
    "# ex) [10, 30, 54, ...]\n",
    "# 멤버는 총 26개\n",
    "en_txt.count('and')"
   ]
  },
  {
   "cell_type": "code",
   "execution_count": 15,
   "metadata": {},
   "outputs": [
    {
     "output_type": "execute_result",
     "data": {
      "text/plain": [
       "re.compile(r'[^a-zA-Z]*', re.UNICODE)"
      ]
     },
     "metadata": {},
     "execution_count": 15
    }
   ],
   "source": [
    "# 주어진 데이터(row 데이터)로 부터 \n",
    "# 알파벳권의 빈도는 국가별로 다르다\n",
    "# 정제과정을 거쳐서 알파벳만 문자열을 획득할 수 있다. => 정규식으로 처리\n",
    "import re\n",
    "\n",
    "# 정규식을 생성\n",
    "# [] : 문자 한개, 문자 클래스\n",
    "# * : 0 ~  무한대로 반복해서 나올 수 있다.\n",
    "# [^] : 해당문자빼고\n",
    "# a-z A-Z : 모든 알파벳 \n",
    "re.compile('[^a-zA-Z]*')"
   ]
  },
  {
   "cell_type": "code",
   "execution_count": 16,
   "metadata": {},
   "outputs": [],
   "source": [
    "# 알파벳을 제외한 모든 문자는 제거\n",
    "p = re.compile('[^a-zA-Z]*')"
   ]
  },
  {
   "cell_type": "code",
   "execution_count": 17,
   "metadata": {},
   "outputs": [
    {
     "output_type": "execute_result",
     "data": {
      "text/plain": [
       "'TheXboxOneisahomevideogameconsoledevelopedbyMicrosoftAnnouncedinMayitisthesuccessortoXboxandthethirdbaseconsoleintheXboxseriesofvideogameconsolesItwasfirstreleasedinNorthAmericapartsofEuropeAustraliaandSouthAmericainNovemberandinJapanChinaandotherEuropeancountriesinSeptemberItisthefirstXboxgameconsoletobereleasedinChinaspecificallyintheShanghaiFreeTradeZoneMicrosoftmarketedthedeviceasanallinoneentertainmentsystemhencethenameXboxOneAconsoleoftheeighthgenerationitmainlycompetesagainstSonysPlayStationandNintendosWiiUandSwitch'"
      ]
     },
     "metadata": {},
     "execution_count": 17
    }
   ],
   "source": [
    "# 정규식을 이용하여 알파벳만 남긴다\n",
    "# 원문에서 알파벳을 제외한 모든 문자를 찾아서 ''으로 대체한다.\n",
    "tmp = p.sub('', en_txt)\n",
    "tmp"
   ]
  },
  {
   "source": [
    "# 일단 통일되게 소문자로 처리\n",
    "tmp = tmp.lower()"
   ],
   "cell_type": "code",
   "metadata": {},
   "execution_count": null,
   "outputs": []
  },
  {
   "source": [
    "# 알파벳 순서\n",
    "# a, b, c... => 아스키코드에 대응\n",
    "# a => 아스키 97, z => 122\n",
    "# 알파벳 간에 거리값이 1 존재한다. => 이것을 이용해 손쉽게 카운트 처리\n",
    "# 'a' => 97이 나오게 하는 함수는? ord()\n",
    "\n",
    "ord('a'), ord('b'),ord('b')-ord('a')"
   ],
   "cell_type": "code",
   "metadata": {},
   "execution_count": 23,
   "outputs": [
    {
     "output_type": "execute_result",
     "data": {
      "text/plain": [
       "(97, 98, 1)"
      ]
     },
     "metadata": {},
     "execution_count": 23
    }
   ]
  },
  {
   "cell_type": "code",
   "execution_count": 27,
   "metadata": {},
   "outputs": [
    {
     "output_type": "execute_result",
     "data": {
      "text/plain": [
       "[0, 0, 0, 0, 0, 0, 0, 0, 0, 0, 0, 0, 0, 0, 0, 0, 0, 0, 0, 0, 0, 0, 0, 0, 0, 0]"
      ]
     },
     "metadata": {},
     "execution_count": 27
    }
   ],
   "source": [
    "# 카운트 빈도를 담을 리스트 준비 => 멤버 26개\n",
    "# 모든 구성원의 초기값은 0\n",
    "cnts = [0 for n in range(26)]\n",
    "cnts\n",
    "\n",
    "cnts = [0] * 26\n",
    "cnts\n"
   ]
  },
  {
   "cell_type": "code",
   "execution_count": 29,
   "metadata": {},
   "outputs": [
    {
     "output_type": "stream",
     "name": "stdout",
     "text": [
      "[92, 20, 42, 36, 146, 18, 14, 44, 88, 2, 2, 30, 34, 100, 92, 18, 0, 50, 78, 82, 16, 10, 6, 20, 14, 2]\n"
     ]
    }
   ],
   "source": [
    "# 문자열에서 문자 한개씩 추출 -> for\n",
    "for ch in tmp:\n",
    "    # 카운트\n",
    "    cnts[ord(ch)-ord('a')] += 1\n",
    "print(cnts)"
   ]
  },
  {
   "cell_type": "code",
   "execution_count": 30,
   "metadata": {},
   "outputs": [],
   "source": [
    "# 파일 시스템\n",
    "# 'w' : 쓰기모드 + 텍스트\n",
    "# 'wb' : 쓰기모드 + 바이너리\n",
    "# 1. 파일 생성 및 오픈 => I/O => 오픈과 동시에 닫기에 대해 기술\n",
    "f = open( 'test.txt', 'w' )\n",
    "\n",
    "# 2. 파일닫기 (바로 작성한다.)\n",
    "f.close()"
   ]
  },
  {
   "cell_type": "code",
   "execution_count": 41,
   "metadata": {},
   "outputs": [],
   "source": [
    "# 쓰기\n",
    "f = open( 'test.txt', 'w',encoding='utf-8' )\n",
    "f.write('가나다라abcdABCD1234!@#$')\n",
    "f.close()"
   ]
  },
  {
   "cell_type": "code",
   "execution_count": 42,
   "metadata": {},
   "outputs": [
    {
     "output_type": "stream",
     "name": "stdout",
     "text": [
      "가나다라abcdABCD1234!@#$\n"
     ]
    }
   ],
   "source": [
    "# 읽기\n",
    "# 'r' : 읽기 모드\n",
    "f = open( 'test.txt', 'r', encoding='utf-8' )\n",
    "print(f.read())\n",
    "f.close()"
   ]
  },
  {
   "cell_type": "code",
   "execution_count": 43,
   "metadata": {},
   "outputs": [
    {
     "output_type": "stream",
     "name": "stdout",
     "text": [
      "가나다라abcdABCD1234!@#$\n"
     ]
    }
   ],
   "source": [
    "# 파이썬에서 I/O를 닫는게 중요한데, 실수로 누락하는 경우\n",
    "# with문 이라는 문법을 지원하여 이를 해결한다\n",
    "# as는 별칭으로 open() -> f를 의미\n",
    "with open( 'test.txt', 'r', encoding='utf-8' ) as f:\n",
    "    print(f.read())\n",
    "    # with문을 빠져나가면 자동으로 close() 처리한다.\n",
    "# f.close()"
   ]
  },
  {
   "cell_type": "code",
   "execution_count": null,
   "metadata": {},
   "outputs": [],
   "source": [
    "# map(), fillter()"
   ]
  },
  {
   "cell_type": "code",
   "execution_count": 46,
   "metadata": {},
   "outputs": [
    {
     "output_type": "execute_result",
     "data": {
      "text/plain": [
       "[2, 4, 6, 8, 10]"
      ]
     },
     "metadata": {},
     "execution_count": 46
    }
   ],
   "source": [
    "# 데이터 \n",
    "data = [1,2,3,4,5]\n",
    "# a의 각 구성원 값을 2배로 키워라 => [2,4,6,8,10]\n",
    "# 멤버들을 하나씩 꺼내서 *2를 해서 다시 원위치 시킴\n",
    "# 파이썬 : map(), 판다스 : apply()\n",
    "def mul2( x ):\n",
    "    return x *2\n",
    "    pass\n",
    "\n",
    "\n",
    "list(map(mul2,data))\n"
   ]
  },
  {
   "cell_type": "code",
   "execution_count": 47,
   "metadata": {},
   "outputs": [
    {
     "output_type": "execute_result",
     "data": {
      "text/plain": [
       "[2, 4, 6, 8, 10]"
      ]
     },
     "metadata": {},
     "execution_count": 47
    }
   ],
   "source": [
    "# 호출할때만 생성되고, 이후에는 람다함수는 사라진다(휘발성)\n",
    "list(map(lambda x : x * 2,data))\n"
   ]
  },
  {
   "cell_type": "code",
   "execution_count": 49,
   "metadata": {},
   "outputs": [
    {
     "output_type": "execute_result",
     "data": {
      "text/plain": [
       "[3, 4, 5]"
      ]
     },
     "metadata": {},
     "execution_count": 49
    }
   ],
   "source": [
    "list(filter(lambda x : x>2,data))"
   ]
  },
  {
   "cell_type": "markdown",
   "metadata": {},
   "source": [
    "# 외장함수"
   ]
  },
  {
   "cell_type": "code",
   "execution_count": 50,
   "metadata": {},
   "outputs": [
    {
     "output_type": "execute_result",
     "data": {
      "text/plain": [
       "<module 'pickle' from 'C:\\\\Users\\\\pnu\\\\anaconda3\\\\lib\\\\pickle.py'>"
      ]
     },
     "metadata": {},
     "execution_count": 50
    }
   ],
   "source": [
    "# from ~ \n",
    "# as : 별칭 부여(이름이 너무 길다, 의미가 애매모호하다.)\n",
    "import pickle as p\n",
    "p"
   ]
  },
  {
   "cell_type": "code",
   "execution_count": 53,
   "metadata": {},
   "outputs": [],
   "source": [
    "# pickle은 자료구조를 유지한채로 저장(덤프), 로드를 수행할수 있는 모듈\n",
    "# 이 모듈을 확장해서, 머신러닝, 딥러닝시 학습된 모델을 저장하고 로드할때\n",
    "# 내부적으로 사용되는 모듈\n",
    "# 머신러닝, 딥러닝 => 학습된 모델은 신경망 구조 + 가중치값을 가진다 => 저장\n",
    "\n",
    "with open('model.h5', 'wb') as f:\n",
    "    p.dump (data, f, p.HIGHEST_PROTOCOL)"
   ]
  },
  {
   "cell_type": "code",
   "execution_count": 57,
   "metadata": {},
   "outputs": [
    {
     "output_type": "stream",
     "name": "stdout",
     "text": [
      "[1, 2, 3, 4, 5]\n"
     ]
    }
   ],
   "source": [
    "with open('model.h5', 'rb') as f:\n",
    "    print(p.load( f ))"
   ]
  },
  {
   "source": [
    "# 람다함수"
   ],
   "cell_type": "markdown",
   "metadata": {}
  },
  {
   "source": [
    "- 휘발성 함수, 1회용 사용\n",
    "- 빠른 처리 속도를 요할때 사용\n",
    "- 함수의 인자로 함수를 넣을때 사용\n",
    "- 수행문 하나일때 사용"
   ],
   "cell_type": "markdown",
   "metadata": {}
  },
  {
   "cell_type": "markdown",
   "metadata": {},
   "source": [
    "# 클로저"
   ]
  },
  {
   "cell_type": "code",
   "execution_count": 58,
   "metadata": {},
   "outputs": [],
   "source": [
    "def a( ):\n",
    "    print( 1 )\n",
    "    # 함수 내부에서 특정 모듈을 담당하여 업무를 수행할때 사용\n",
    "    def b( ):\n",
    "        print(2)\n",
    "    b()\n",
    "    print(3)"
   ]
  },
  {
   "cell_type": "code",
   "execution_count": 59,
   "metadata": {},
   "outputs": [
    {
     "output_type": "stream",
     "name": "stdout",
     "text": [
      "1\n2\n3\n"
     ]
    }
   ],
   "source": [
    "a()"
   ]
  },
  {
   "cell_type": "code",
   "execution_count": 69,
   "metadata": {},
   "outputs": [],
   "source": [
    "def a(x,y):\n",
    "    x = 10\n",
    "    y = 5\n",
    "    def b( z ):\n",
    "        return x+y +z\n",
    "    return b\n",
    "b2 = a(10,5)"
   ]
  },
  {
   "cell_type": "code",
   "execution_count": 67,
   "metadata": {},
   "outputs": [
    {
     "output_type": "execute_result",
     "data": {
      "text/plain": [
       "16"
      ]
     },
     "metadata": {},
     "execution_count": 67
    }
   ],
   "source": [
    "b2 = a()\n",
    "b2(1)"
   ]
  },
  {
   "cell_type": "code",
   "execution_count": 70,
   "metadata": {},
   "outputs": [
    {
     "output_type": "execute_result",
     "data": {
      "text/plain": [
       "16"
      ]
     },
     "metadata": {},
     "execution_count": 70
    }
   ],
   "source": [
    "def a(x,y):\n",
    "    return lambda z : x+y+z\n",
    "# 케라스에서 모델 만들때 종종 볼수 있다.\n",
    "a(10,5)(1)"
   ]
  }
 ],
 "metadata": {
  "kernelspec": {
   "display_name": "Python 3",
   "language": "python",
   "name": "python3"
  },
  "language_info": {
   "codemirror_mode": {
    "name": "ipython",
    "version": 3
   },
   "file_extension": ".py",
   "mimetype": "text/x-python",
   "name": "python",
   "nbconvert_exporter": "python",
   "pygments_lexer": "ipython3",
   "version": "3.8.5-final"
  }
 },
 "nbformat": 4,
 "nbformat_minor": 4
}