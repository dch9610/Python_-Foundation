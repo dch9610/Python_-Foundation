{
 "metadata": {
  "language_info": {
   "codemirror_mode": {
    "name": "ipython",
    "version": 3
   },
   "file_extension": ".py",
   "mimetype": "text/x-python",
   "name": "python",
   "nbconvert_exporter": "python",
   "pygments_lexer": "ipython3",
   "version": "3.8.5-final"
  },
  "orig_nbformat": 2,
  "kernelspec": {
   "name": "conda",
   "display_name": "jupyter_"
  }
 },
 "nbformat": 4,
 "nbformat_minor": 2,
 "cells": [
  {
   "cell_type": "code",
   "execution_count": 1,
   "metadata": {},
   "outputs": [
    {
     "output_type": "stream",
     "name": "stdout",
     "text": [
      "1\n3 division by zero\n5\n"
     ]
    }
   ],
   "source": [
    "# s/w는 중단되면 안된다.\n",
    "try:\n",
    "    # 예외가 발생할만한 코드를 감싼다 => I/O\n",
    "    print(1)\n",
    "    1/0\n",
    "    print(2)\n",
    "\n",
    "# 예외의 대표 (Exception)\n",
    "except Exception as e: # 예외를 잡아서 처리\n",
    "    print(3, e)\n",
    "    pass\n",
    "else: # 예외상황이 없이 잘 수행되었다면 호출\n",
    "    print(4)\n",
    "    pass\n",
    "finally: # 무조건 수행\n",
    "    print(5)\n",
    "    pass"
   ]
  },
  {
   "cell_type": "code",
   "execution_count": 2,
   "metadata": {},
   "outputs": [
    {
     "output_type": "stream",
     "name": "stdout",
     "text": [
      "1\n2\n4\n5\n"
     ]
    }
   ],
   "source": [
    "# s/w는 중단되면 안된다.\n",
    "\n",
    "# 예외상황이 없는 정상적인 케이스\n",
    "try:\n",
    "    # 예외가 발생할만한 코드를 감싼다 => I/O\n",
    "    print(1)\n",
    "    print(2)\n",
    "\n",
    "# 예외의 대표 (Exception)\n",
    "except Exception as e: # 예외를 잡아서 처리\n",
    "    print(3, e)\n",
    "    pass\n",
    "\n",
    "else: # 예외상황이 없이 잘 수행되었다면 호출, 생략가능\n",
    "    print(4)\n",
    "    pass\n",
    "finally: # 무조건 수행, 생략가능\n",
    "    print(5)\n",
    "    pass"
   ]
  }
 ]
}