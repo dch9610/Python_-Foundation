{
 "metadata": {
  "language_info": {
   "codemirror_mode": {
    "name": "ipython",
    "version": 3
   },
   "file_extension": ".py",
   "mimetype": "text/x-python",
   "name": "python",
   "nbconvert_exporter": "python",
   "pygments_lexer": "ipython3",
   "version": "3.8.5-final"
  },
  "orig_nbformat": 2,
  "kernelspec": {
   "name": "conda",
   "display_name": "jupyter_"
  }
 },
 "nbformat": 4,
 "nbformat_minor": 2,
 "cells": [
  {
   "source": [
    "- 개념\n",
    "    -Entity (개체)\n",
    "        - 이 세상에 존재하는 모든 무형 (생각, 사고) / 유형을 대변\n",
    "    - Entity를 프로그램 언어로 표현하기 위해서 제공되는 방식 -> Class"
   ],
   "cell_type": "markdown",
   "metadata": {}
  },
  {
   "source": [
    "- 객체 (Object)\n",
    "    - 클래스를 메모리에 생성하면, 클래스의 인스턴스가 생성된다.\n",
    "    - 클래스의 인스턴스를 객체라고 부른다.\n",
    "    - 클래스의 인스턴스를 여러개 존재할 수 있다. => 객체도 여러개 존재할 수 있다.\n",
    "    - 객체의 청사진은 클래스\n",
    "    - 객체는 주소를 가진다 (메모리상의)\n",
    "    - 변수를 그 주소값을 가짐으로써 해당 객체를 가르키게 된다."
   ],
   "cell_type": "markdown",
   "metadata": {}
  },
  {
   "source": [
    "- OOP\n",
    "    - 객체를 이용하여 프로그램을 작성하면, 객체 지향 프로그램이라고 한다.\n",
    "    - Object Oriented Programming\n",
    "    - OOP는 C++에서 시작되었고, java에서 발전했다. 대부분의 언어는 객체 지향 프로그램을 지원한다."
   ],
   "cell_type": "markdown",
   "metadata": {}
  },
  {
   "source": [
    "- Class\n",
    "    - 개체를 표현하는 문법적인 도구\n",
    "    - class는 멤버로, 변수, 함수를 가진다 => 멤버변수, 멤버함수라고 부른다.\n",
    "    - 멤버라고 부르는 요소는 무조건\n",
    "        - 객체명.멤버변수, 객체명.멤버함수 하는 형식으로 사용된다.\n",
    "        - 클래스 내부에서 사용될떄는 자기 자신 객체 self(python, object-c) or this (java, c#)"
   ],
   "cell_type": "markdown",
   "metadata": {}
  },
  {
   "cell_type": "code",
   "execution_count": 2,
   "metadata": {},
   "outputs": [
    {
     "output_type": "execute_result",
     "data": {
      "text/plain": [
       "'\\nclass 클래스명[([부모클래스])]:\\n    \\n'"
      ]
     },
     "metadata": {},
     "execution_count": 2
    }
   ],
   "source": [
    "# []은 생략가능\n",
    "'''\n",
    "class 클래스명[([부모클래스])]:\n",
    "    # 생성자 -> 객체가 생성될때 호출되는 함수\n",
    "    # 멤버 변수\n",
    "    # 멤버 함수\n",
    "    # 기타 (소멸자, 객체설명, ...)\n",
    "'''"
   ]
  },
  {
   "cell_type": "code",
   "execution_count": 3,
   "metadata": {},
   "outputs": [
    {
     "output_type": "execute_result",
     "data": {
      "text/plain": [
       "'\\nclass A : pass  # A 클래스의 부모는 object이다\\nclass A() : pass # A 클래스의 부모는 object이다 \\nclass A(B) : pass # A 클래스의 부모는 B이다\\n\\n* object는 모든 클래스의 수퍼클래스(근본, 시초, 기원)이다.\\n'"
      ]
     },
     "metadata": {},
     "execution_count": 3
    }
   ],
   "source": [
    "'''\n",
    "class A : pass  # A 클래스의 부모는 object이다\n",
    "class A() : pass # A 클래스의 부모는 object이다 \n",
    "class A(B) : pass # A 클래스의 부모는 B이다\n",
    "\n",
    "* object는 모든 클래스의 수퍼클래스(근본, 시초, 기원)이다.\n",
    "'''"
   ]
  },
  {
   "cell_type": "code",
   "execution_count": 4,
   "metadata": {},
   "outputs": [],
   "source": [
    "# 클래스 기본 구성\n",
    "# 사람이라는 엔티티를 파이썬으로 묘사해보겠다.\n",
    "# 속성 :  나이, 이름 -> 멤버 변수\n",
    "# 행동 : 밥을 먹는다. 걷는다. -> 멤버 함수\n",
    "# 클래스명 보편적으로 첫글자를 대문자로 기술한다.(안묵적인 룰)\n",
    "\n",
    "# 클래스 정의\n",
    "class Person:\n",
    "    pass"
   ]
  },
  {
   "cell_type": "code",
   "execution_count": 26,
   "metadata": {},
   "outputs": [
    {
     "output_type": "execute_result",
     "data": {
      "text/plain": [
       "<__main__.Person at 0x208306272e0>"
      ]
     },
     "metadata": {},
     "execution_count": 26
    }
   ],
   "source": [
    "# 클래스를 사용하고 싶다면, 클래스의 인스턴스를 생성해야 한다.\n",
    "# 이것이 객체이다.\n",
    "# 생성법 : 클래스명()\n",
    "Person()\n",
    "p = Person()\n",
    "p\n",
    "\n",
    "# 객체가 만들어지면 주소가 리턴이 되고 이 주소를 변수가 받아서 \n",
    "# 이후로는 그 변수를 Person 객체 p라고 부른다."
   ]
  },
  {
   "cell_type": "code",
   "execution_count": 28,
   "metadata": {},
   "outputs": [],
   "source": [
    "# 소멸\n",
    "del p   "
   ]
  },
  {
   "cell_type": "code",
   "execution_count": 36,
   "metadata": {},
   "outputs": [],
   "source": [
    "# class의 구성요소를 더 추가\n",
    "# 클래스 내에서 존재하는 모든 함수들은 1번인자가 무조건 self이다. (상징적)\n",
    "# 단, 아닌 함수도 존재한다. (정적함수)\n",
    "class Person:\n",
    "    '''\n",
    "        멤버 변수\n",
    "    '''\n",
    "    age = None\n",
    "    name = None\n",
    "\n",
    "    '''\n",
    "        생성자 -> 객체 생성, 멤버변수 초기화, 객체 생성시 전달되는 값 처리\n",
    "        -> 부모 생성자 호출 및 데이터 전달\n",
    "    '''\n",
    "    def __init__(self):\n",
    "        print(\"생성자 호출\")\n",
    "\n",
    "    '''\n",
    "        멤버 함수\n",
    "    '''\n",
    "    def eat(self):\n",
    "        print(\"밥을 먹는다.\")\n",
    "    def walk(self):\n",
    "        print(\"걷는다.\")\n",
    "    pass"
   ]
  },
  {
   "cell_type": "code",
   "execution_count": 38,
   "metadata": {},
   "outputs": [
    {
     "output_type": "stream",
     "name": "stdout",
     "text": [
      "생성자 호출\n밥을 먹는다.\n걷는다.\n"
     ]
    }
   ],
   "source": [
    "p = Person()\n",
    "p.eat()\n",
    "p.walk()\n",
    "p.age\n",
    "p.name"
   ]
  },
  {
   "cell_type": "code",
   "execution_count": 40,
   "metadata": {},
   "outputs": [],
   "source": [
    "\n",
    "class Person:\n",
    "    age = None\n",
    "    name = None\n",
    "\n",
    "    def __init__(self, age, name):\n",
    "        print(\"생성자 호출\")\n",
    "        # 자기자신을 가리키는 객체 self\n",
    "        # 멤버 변수 = 지역변수\n",
    "        self.age = age\n",
    "        self.name = name\n",
    "\n",
    "    def eat(self):\n",
    "        print(\"밥을 먹는다.\")\n",
    "    def walk(self):\n",
    "        print(\"걷는다.\")\n",
    "    pass"
   ]
  },
  {
   "cell_type": "code",
   "execution_count": 44,
   "metadata": {},
   "outputs": [
    {
     "output_type": "stream",
     "name": "stdout",
     "text": [
      "생성자 호출\n"
     ]
    },
    {
     "output_type": "execute_result",
     "data": {
      "text/plain": [
       "(20, '부산대')"
      ]
     },
     "metadata": {},
     "execution_count": 44
    }
   ],
   "source": [
    "p = Person(20, \"부산대\")\n",
    "p.age, p.name"
   ]
  },
  {
   "cell_type": "code",
   "execution_count": 45,
   "metadata": {},
   "outputs": [],
   "source": [
    "# 상속 => OOP의 특징중에 1개\n",
    "# 부모 클래스와 자식 클래스\n",
    "# 자식은 부모의 자원을 그대로 사용가능하고,\n",
    "# 부모의 유산을 재정의 할수 있고\n",
    "# 자식은 별도로 추가할수도 있다.\n",
    "# 자식 is a 부모\n",
    "# 부모 has a 자식\n",
    "\n",
    "# XMan은 Person을 상속 받았다\n",
    "class XMan(Person):\n",
    "    pass"
   ]
  },
  {
   "cell_type": "code",
   "execution_count": 48,
   "metadata": {},
   "outputs": [
    {
     "output_type": "stream",
     "name": "stdout",
     "text": [
      "생성자 호출\n"
     ]
    },
    {
     "output_type": "execute_result",
     "data": {
      "text/plain": [
       "'울버린'"
      ]
     },
     "metadata": {},
     "execution_count": 48
    }
   ],
   "source": [
    "# 자식은 부모의 자원을 그대로 사용가능하다.\n",
    "# XMan은 Person을 상속 받았다\n",
    "class XMan(Person):\n",
    "    pass\n",
    "\n",
    "# 생성\n",
    "xm = XMan(100,'울버린')\n",
    "xm.name"
   ]
  },
  {
   "cell_type": "code",
   "execution_count": 50,
   "metadata": {},
   "outputs": [
    {
     "output_type": "stream",
     "name": "stdout",
     "text": [
      "생성자 호출\n걷는다.\n울버린는 시속 100km/s로 걷는다.\n"
     ]
    }
   ],
   "source": [
    "# 부모의 유산을 재정의 할수 있다. -> 함수의 내부를 새로 구성\n",
    "# override : 재정의\n",
    "# 상속 <-> 추상화\n",
    "class XMan2(Person):\n",
    "    def walk(self):\n",
    "        print(\"걷는다.\")\n",
    "        print(f'{self.name}는 시속 100km/s로 걷는다.')\n",
    "\n",
    "# 생성\n",
    "xm2 = XMan2(99,'울버린')\n",
    "xm2.walk()"
   ]
  },
  {
   "cell_type": "code",
   "execution_count": 57,
   "metadata": {},
   "outputs": [
    {
     "output_type": "stream",
     "name": "stdout",
     "text": [
      "생성자 호출\n공격한다\n"
     ]
    }
   ],
   "source": [
    "# 자식은 요소들을 별도로 추가할 수 있다.\n",
    "class XMan3(XMan2):\n",
    "    weapon = '갈고리'\n",
    "    def attack(self):\n",
    "        print(\"공격한다\")\n",
    "\n",
    "# 생성        \n",
    "xm3 = XMan3(56,'울버린')\n",
    "xm3.weapon\n",
    "xm3.attack()"
   ]
  },
  {
   "cell_type": "code",
   "execution_count": 56,
   "metadata": {},
   "outputs": [
    {
     "output_type": "execute_result",
     "data": {
      "text/plain": [
       "'철 갈고리'"
      ]
     },
     "metadata": {},
     "execution_count": 56
    }
   ],
   "source": [
    "xm3.weapon = '철 갈고리'\n",
    "xm3.weapon"
   ]
  },
  {
   "cell_type": "code",
   "execution_count": null,
   "metadata": {},
   "outputs": [],
   "source": [
    "# 객체지향 프로그램을 통해 얻는 이득\n",
    "# 버전 업그레이드시 => 상속받고 추가, 재정의 하면 된다.\n",
    "# 각 기능별로 클래스로 설계하여 모듈화 할수 있다 (부속화 할수 있다.)\n"
   ]
  }
 ]
}